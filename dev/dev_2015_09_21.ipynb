{
 "cells": [
  {
   "cell_type": "code",
   "execution_count": 2,
   "metadata": {
    "collapsed": true
   },
   "outputs": [],
   "source": [
    "import numpy as np\n",
    "import scipy as sp"
   ]
  },
  {
   "cell_type": "code",
   "execution_count": 3,
   "metadata": {
    "collapsed": true
   },
   "outputs": [],
   "source": [
    "import matplotlib.pylab as plt"
   ]
  },
  {
   "cell_type": "code",
   "execution_count": 5,
   "metadata": {
    "collapsed": true
   },
   "outputs": [],
   "source": [
    "import pyaudio, wave, sys"
   ]
  },
  {
   "cell_type": "code",
   "execution_count": 7,
   "metadata": {
    "collapsed": true
   },
   "outputs": [],
   "source": [
    "class AudioSource(object):\n",
    "    def __init__(self):\n",
    "        raise NotImplementedError(\"this is an abstract class\")\n",
    "\n",
    "    def __enter__(self):\n",
    "        raise NotImplementedError(\"this is an abstract class\")\n",
    "\n",
    "    def __exit__(self, exc_type, exc_value, traceback):\n",
    "        raise NotImplementedError(\"this is an abstract class\")"
   ]
  },
  {
   "cell_type": "code",
   "execution_count": 8,
   "metadata": {
    "collapsed": true
   },
   "outputs": [],
   "source": [
    "class Microphone(AudioSource):\n",
    "    \"\"\"\n",
    "    This is available if PyAudio is available, and is undefined otherwise.\n",
    "    Creates a new ``Microphone`` instance, which represents a physical microphone on the computer. Subclass of ``AudioSource``.\n",
    "    If ``device_index`` is unspecified or ``None``, the default microphone is used as the audio source. Otherwise, ``device_index`` should be the index of the device to use for audio input.\n",
    "    A device index is an integer between 0 and ``pyaudio.get_device_count() - 1`` (assume we have used ``import pyaudio`` beforehand) inclusive. It represents an audio device such as a microphone or speaker. See the `PyAudio documentation <http://people.csail.mit.edu/hubert/pyaudio/docs/>`__ for more details.\n",
    "    The microphone audio is recorded in chunks of ``chunk_size`` samples, at a rate of ``sample_rate`` samples per second (Hertz).\n",
    "    Higher ``sample_rate`` values result in better audio quality, but also more bandwidth (and therefore, slower recognition). Additionally, some machines, such as some Raspberry Pi models, can't keep up if this value is too high.\n",
    "    Higher ``chunk_size`` values help avoid triggering on rapidly changing ambient noise, but also makes detection less sensitive. This value, generally, should be left at its default.\n",
    "    \"\"\"\n",
    "    def __init__(self, device_index = None, sample_rate = 16000, chunk_size = 1024):\n",
    "        assert device_index is None or isinstance(device_index, int), \"Device index must be None or an integer\"\n",
    "        if device_index is not None: # ensure device index is in range\n",
    "            audio = pyaudio.PyAudio(); count = audio.get_device_count(); audio.terminate() # obtain device count\n",
    "            assert 0 <= device_index < count, \"Device index out of range\"\n",
    "        assert isinstance(sample_rate, int) and sample_rate > 0, \"Sample rate must be a positive integer\"\n",
    "        assert isinstance(chunk_size, int) and chunk_size > 0, \"Chunk size must be a positive integer\"\n",
    "        self.device_index = device_index\n",
    "        self.format = pyaudio.paInt16 # 16-bit int sampling\n",
    "        self.SAMPLE_WIDTH = pyaudio.get_sample_size(self.format) # size of each sample\n",
    "        self.SAMPLE_RATE = sample_rate # sampling rate in Hertz\n",
    "        self.CHANNELS = 1 # mono audio\n",
    "        self.CHUNK = chunk_size # number of frames stored in each buffer\n",
    "\n",
    "        self.audio = None\n",
    "        self.stream = None\n",
    "\n",
    "    def __enter__(self):\n",
    "        assert self.stream is None, \"This audio source is already inside a context manager\"\n",
    "        self.audio = pyaudio.PyAudio()\n",
    "        self.stream = self.audio.open(\n",
    "            input_device_index = self.device_index,\n",
    "            format = self.format, rate = self.SAMPLE_RATE, channels = self.CHANNELS, frames_per_buffer = self.CHUNK,\n",
    "            input = True, # stream is an input stream\n",
    "        )\n",
    "        return self\n",
    "\n",
    "    def __exit__(self, exc_type, exc_value, traceback):\n",
    "        self.stream.stop_stream()\n",
    "        self.stream.close()\n",
    "        self.stream = None\n",
    "        self.audio.terminate()"
   ]
  },
  {
   "cell_type": "code",
   "execution_count": 46,
   "metadata": {
    "collapsed": false
   },
   "outputs": [
    {
     "data": {
      "text/plain": [
       "2L"
      ]
     },
     "execution_count": 46,
     "metadata": {},
     "output_type": "execute_result"
    }
   ],
   "source": [
    "pyaudio.get_sample_size(pyaudio.paInt16)"
   ]
  },
  {
   "cell_type": "code",
   "execution_count": 53,
   "metadata": {
    "collapsed": false
   },
   "outputs": [
    {
     "data": {
      "text/plain": [
       "8"
      ]
     },
     "execution_count": 53,
     "metadata": {},
     "output_type": "execute_result"
    }
   ],
   "source": [
    "pyaudio.paInt16"
   ]
  },
  {
   "cell_type": "code",
   "execution_count": 48,
   "metadata": {
    "collapsed": false
   },
   "outputs": [
    {
     "name": "stdout",
     "output_type": "stream",
     "text": [
      "\n",
      "    Returns the size (in bytes) for the specified\n",
      "    sample *format*.\n",
      "\n",
      "    :param format: A |PaSampleFormat| constant.\n",
      "    :raises ValueError: on invalid specified `format`.\n",
      "    :rtype: integer\n",
      "    \n"
     ]
    }
   ],
   "source": [
    "print pyaudio.get_sample_size.__doc__"
   ]
  },
  {
   "cell_type": "code",
   "execution_count": 54,
   "metadata": {
    "collapsed": false
   },
   "outputs": [
    {
     "name": "stdout",
     "output_type": "stream",
     "text": [
      "Writing recorder.py\n"
     ]
    }
   ],
   "source": [
    "%%writefile recorder.py\n",
    "import pyaudio\n",
    "\n",
    "class AudioSource(object):\n",
    "    def __init__(self):\n",
    "        raise NotImplementedError(\"this is an abstract class\")\n",
    "\n",
    "    def __enter__(self):\n",
    "        raise NotImplementedError(\"this is an abstract class\")\n",
    "\n",
    "    def __exit__(self, exc_type, exc_value, traceback):\n",
    "        raise NotImplementedError(\"this is an abstract class\")\n",
    "\n",
    "class Recorder(AudioSource):\n",
    "    \n",
    "    def __init__(self, device_index = None, sample_rate = 16000, chunck_size =1024, bit_width = pyaudio.paInt16, channels = 1):\n",
    "        assert device_index is None or isinstance(device_index, int), \"`device_index` must be integer.\"\n",
    "        if device_index is not None:\n",
    "            audio = pyaudio.PyAudio()\n",
    "            count = audio.get_device_count()\n",
    "            audio.terminate()\n",
    "            assert 0 <= device_index < count, \"`device_index` out of range: {} out of {}\".format(device_index, count)\n",
    "        assert isinstance(sample_rate, int) and sample_rate > 0, \"`sample_rate` must be positive.\"\n",
    "        assert isinstance(chunck_size, int) and chunck_size > 0, \"`chunck_size` must be positive.\"\n",
    "        \n",
    "        self.device_index = device_index\n",
    "        self.sample_rate = sample_rate\n",
    "        self.__chunck_size = chunck_size\n",
    "        self.__bit_width = pyaudio.paInt16\n",
    "        self.__sample_rate = sample_rate\n",
    "        self.channels = channels\n",
    "    \n",
    "    @property\n",
    "    def stream(self):\n",
    "        audio_client = pyaudio.PyAudio()\n",
    "        stream = audio_client.open()\n",
    "        return stream\n",
    "    \n",
    "    @property\n",
    "    def CHUNCK_SIZE(self):\n",
    "        return self.__chunck_size\n",
    "    \n",
    "    @property\n",
    "    def BIT_WIDTH(self):\n",
    "        return self.__bit_width\n",
    "    \n",
    "    @property\n",
    "    def SAMPLE_RATE(self):\n",
    "        return self.__sample_rate\n",
    "    \n",
    "    @CHUNCK_SIZE.setter\n",
    "    def CHUNCK_SIZE(self, value):\n",
    "        if not self.__chunck_size is None:\n",
    "            raise RuntimeError(\"Can not modify the `CHUNCK_SIZE`.\")\n",
    "        else:\n",
    "            self.__chunck_size = value\n",
    "    \n",
    "    @BIT_WIDTH.setter\n",
    "    def BIT_WIDTH(self, value):\n",
    "        if not self.__bit_width is None:\n",
    "            raise RuntimeError(\"Can not modify the `BIT_WIDTH`.\")\n",
    "        else:\n",
    "            self.__bit_width = value\n",
    "    \n",
    "    @SAMPLE_RATE.setter\n",
    "    def SAMPLE_RATE(self, value):\n",
    "        if not self.__sample_rate is None:\n",
    "            raise RuntimeError(\"Can not modify the `SAMPLE_RATE`.\")\n",
    "        else:\n",
    "            self.__sample_rate = value    \n",
    "        \n",
    "    def listen(self):\n",
    "        pass\n",
    "    \n",
    "    def plot(self):\n",
    "        pass\n",
    "    \n",
    "    def play(self, start, end):\n",
    "        pass"
   ]
  },
  {
   "cell_type": "code",
   "execution_count": 6,
   "metadata": {
    "collapsed": true
   },
   "outputs": [],
   "source": [
    "pa = pyaudio.PyAudio()"
   ]
  },
  {
   "cell_type": "code",
   "execution_count": 9,
   "metadata": {
    "collapsed": false
   },
   "outputs": [
    {
     "name": "stdout",
     "output_type": "stream",
     "text": [
      "\n",
      "        Return the number of PortAudio Host APIs.\n",
      "\n",
      "        :rtype: integer\n",
      "        \n"
     ]
    }
   ],
   "source": [
    "print pa.get_device_count.__doc__"
   ]
  },
  {
   "cell_type": "code",
   "execution_count": 10,
   "metadata": {
    "collapsed": false
   },
   "outputs": [
    {
     "data": {
      "text/plain": [
       "3L"
      ]
     },
     "execution_count": 10,
     "metadata": {},
     "output_type": "execute_result"
    }
   ],
   "source": [
    "pa.get_device_count()"
   ]
  },
  {
   "cell_type": "code",
   "execution_count": 14,
   "metadata": {
    "collapsed": false
   },
   "outputs": [
    {
     "data": {
      "text/plain": [
       "{'defaultInputDevice': 0L,\n",
       " 'defaultOutputDevice': 1L,\n",
       " 'deviceCount': 3L,\n",
       " 'index': 0L,\n",
       " 'name': u'Core Audio',\n",
       " 'structVersion': 1L,\n",
       " 'type': 5L}"
      ]
     },
     "execution_count": 14,
     "metadata": {},
     "output_type": "execute_result"
    }
   ],
   "source": [
    "pa.get_default_host_api_info()"
   ]
  },
  {
   "cell_type": "code",
   "execution_count": 25,
   "metadata": {
    "collapsed": false
   },
   "outputs": [
    {
     "data": {
      "text/plain": [
       "1L"
      ]
     },
     "execution_count": 25,
     "metadata": {},
     "output_type": "execute_result"
    }
   ],
   "source": [
    "pa.get_host_api_count()"
   ]
  },
  {
   "cell_type": "code",
   "execution_count": 21,
   "metadata": {
    "collapsed": false
   },
   "outputs": [
    {
     "name": "stdout",
     "output_type": "stream",
     "text": [
      "0\n",
      "{'defaultSampleRate': 44100.0, 'defaultLowOutputLatency': 0.01, 'defaultLowInputLatency': 0.002993197278911565, 'maxInputChannels': 2L, 'structVersion': 2L, 'hostApi': 0L, 'index': 0L, 'defaultHighOutputLatency': 0.1, 'maxOutputChannels': 0L, 'name': u'Built-in Microph', 'defaultHighInputLatency': 0.013151927437641724}\n",
      "1\n",
      "{'defaultSampleRate': 44100.0, 'defaultLowOutputLatency': 0.01, 'defaultLowInputLatency': 0.002993197278911565, 'maxInputChannels': 2L, 'structVersion': 2L, 'hostApi': 0L, 'index': 0L, 'defaultHighOutputLatency': 0.1, 'maxOutputChannels': 0L, 'name': u'Built-in Microph', 'defaultHighInputLatency': 0.013151927437641724}\n",
      "2\n",
      "{'defaultSampleRate': 44100.0, 'defaultLowOutputLatency': 0.01, 'defaultLowInputLatency': 0.002993197278911565, 'maxInputChannels': 2L, 'structVersion': 2L, 'hostApi': 0L, 'index': 0L, 'defaultHighOutputLatency': 0.1, 'maxOutputChannels': 0L, 'name': u'Built-in Microph', 'defaultHighInputLatency': 0.013151927437641724}\n"
     ]
    }
   ],
   "source": [
    "for i in range(3):\n",
    "    print i\n",
    "    print pa.get_device_info_by_host_api_device_index(0, 0)"
   ]
  },
  {
   "cell_type": "code",
   "execution_count": 24,
   "metadata": {
    "collapsed": false
   },
   "outputs": [],
   "source": [
    "audio = pyaudio.PyAudio()\n",
    "stream = audio.open(input_device_index = None, \n",
    "                    format = pyaudio.paInt16, rate = 16000, \n",
    "                    channels = 1, \n",
    "                    frames_per_buffer = 1024,\n",
    "                    input = True)"
   ]
  },
  {
   "cell_type": "code",
   "execution_count": 26,
   "metadata": {
    "collapsed": true
   },
   "outputs": [],
   "source": [
    "audio.terminate()"
   ]
  },
  {
   "cell_type": "code",
   "execution_count": 44,
   "metadata": {
    "collapsed": false
   },
   "outputs": [
    {
     "name": "stdout",
     "output_type": "stream",
     "text": [
      "Input Device id  0  -  Built-in Microph\n",
      "Output Device id  1  -  Built-in Output\n",
      "Output Device id  2  -  DisplayPort\n",
      "Selected device is  Built-in Microph\n",
      "Yay!\n"
     ]
    }
   ],
   "source": [
    "## Auto detect audio device on host\n",
    "\n",
    "import pyaudio\n",
    "\n",
    "p = pyaudio.PyAudio()\n",
    "info = p.get_host_api_info_by_index(0)\n",
    "numdevices = info.get('deviceCount')\n",
    "#for each audio device, determine if is an input or an output and add it to the appropriate list and dictionary\n",
    "for i in range (0,numdevices):\n",
    "        if p.get_device_info_by_host_api_device_index(0,i).get('maxInputChannels')>0:\n",
    "                print \"Input Device id \", i, \" - \", p.get_device_info_by_host_api_device_index(0,i).get('name')\n",
    "\n",
    "        if p.get_device_info_by_host_api_device_index(0,i).get('maxOutputChannels')>0:\n",
    "                print \"Output Device id \", i, \" - \", p.get_device_info_by_host_api_device_index(0,i).get('name')\n",
    "        \n",
    "        if p.get_device_info_by_index(i)[\"maxInputChannels\"] > 0:\n",
    "            devinfo = p.get_device_info_by_index(i)\n",
    "            \n",
    "print \"Selected device is \", devinfo.get('name')\n",
    "if p.is_format_supported(44100.0,  # Sample rate\n",
    "                         input_device=devinfo[\"index\"],\n",
    "                         input_channels=devinfo['maxInputChannels'],\n",
    "                         input_format=pyaudio.paInt16):\n",
    "    print \"Yay!\"\n",
    "p.terminate()"
   ]
  },
  {
   "cell_type": "code",
   "execution_count": 37,
   "metadata": {
    "collapsed": false
   },
   "outputs": [
    {
     "data": {
      "text/plain": [
       "{'defaultHighInputLatency': 0.013151927437641724,\n",
       " 'defaultHighOutputLatency': 0.1,\n",
       " 'defaultLowInputLatency': 0.002993197278911565,\n",
       " 'defaultLowOutputLatency': 0.01,\n",
       " 'defaultSampleRate': 44100.0,\n",
       " 'hostApi': 0L,\n",
       " 'index': 0,\n",
       " 'maxInputChannels': 2L,\n",
       " 'maxOutputChannels': 0L,\n",
       " 'name': u'Built-in Microph',\n",
       " 'structVersion': 2L}"
      ]
     },
     "execution_count": 37,
     "metadata": {},
     "output_type": "execute_result"
    }
   ],
   "source": [
    "devinfo = p.get_device_info_by_index(0)\n",
    "devinfo"
   ]
  },
  {
   "cell_type": "code",
   "execution_count": 39,
   "metadata": {
    "collapsed": false
   },
   "outputs": [
    {
     "data": {
      "text/plain": [
       "{'defaultHighInputLatency': 0.1,\n",
       " 'defaultHighOutputLatency': 0.031201814058956917,\n",
       " 'defaultLowInputLatency': 0.01,\n",
       " 'defaultLowOutputLatency': 0.02104308390022676,\n",
       " 'defaultSampleRate': 44100.0,\n",
       " 'hostApi': 0L,\n",
       " 'index': 1,\n",
       " 'maxInputChannels': 0L,\n",
       " 'maxOutputChannels': 2L,\n",
       " 'name': u'Built-in Output',\n",
       " 'structVersion': 2L}"
      ]
     },
     "execution_count": 39,
     "metadata": {},
     "output_type": "execute_result"
    }
   ],
   "source": [
    "devinfo = p.get_device_info_by_index(1)\n",
    "devinfo"
   ]
  },
  {
   "cell_type": "code",
   "execution_count": 42,
   "metadata": {
    "collapsed": false
   },
   "outputs": [
    {
     "data": {
      "text/plain": [
       "{'defaultHighInputLatency': 0.1,\n",
       " 'defaultHighOutputLatency': 0.0118125,\n",
       " 'defaultLowInputLatency': 0.01,\n",
       " 'defaultLowOutputLatency': 0.002479166666666667,\n",
       " 'defaultSampleRate': 48000.0,\n",
       " 'hostApi': 0L,\n",
       " 'index': 2,\n",
       " 'maxInputChannels': 0L,\n",
       " 'maxOutputChannels': 2L,\n",
       " 'name': u'DisplayPort',\n",
       " 'structVersion': 2L}"
      ]
     },
     "execution_count": 42,
     "metadata": {},
     "output_type": "execute_result"
    }
   ],
   "source": [
    "devinfo = p.get_device_info_by_index(2)\n",
    "devinfo"
   ]
  },
  {
   "cell_type": "code",
   "execution_count": 33,
   "metadata": {
    "collapsed": false
   },
   "outputs": [
    {
     "data": {
      "text/plain": [
       "2L"
      ]
     },
     "execution_count": 33,
     "metadata": {},
     "output_type": "execute_result"
    }
   ],
   "source": [
    "devinfo[\"maxInputChannels\"]"
   ]
  },
  {
   "cell_type": "code",
   "execution_count": 34,
   "metadata": {
    "collapsed": false
   },
   "outputs": [
    {
     "data": {
      "text/plain": [
       "True"
      ]
     },
     "execution_count": 34,
     "metadata": {},
     "output_type": "execute_result"
    }
   ],
   "source": [
    "p.is_format_supported(44100.0, input_device=devinfo[\"index\"], input_channels = devinfo[\"maxInputChannels\"], input_format=pyaudio.paInt16)"
   ]
  },
  {
   "cell_type": "code",
   "execution_count": null,
   "metadata": {
    "collapsed": true
   },
   "outputs": [],
   "source": []
  }
 ],
 "metadata": {
  "kernelspec": {
   "display_name": "Python 2",
   "language": "python",
   "name": "python2"
  },
  "language_info": {
   "codemirror_mode": {
    "name": "ipython",
    "version": 2
   },
   "file_extension": ".py",
   "mimetype": "text/x-python",
   "name": "python",
   "nbconvert_exporter": "python",
   "pygments_lexer": "ipython2",
   "version": "2.7.10"
  }
 },
 "nbformat": 4,
 "nbformat_minor": 0
}
